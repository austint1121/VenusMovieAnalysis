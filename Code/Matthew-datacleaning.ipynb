{
 "cells": [
  {
   "cell_type": "markdown",
   "metadata": {},
   "source": [
    "# Matthew's Data Cleaning\n",
    "\n",
    "**In this notebook I will be cleaning \"The Movie DB\" dataset (tmdb.movies.csv.gz)  for it to be merged into the master table**  \n",
    "\n",
    "After talking with the group it was decided that we would merge our tables together into a \"master table\" using what we decided were [relevant columns](https://docs.google.com/spreadsheets/d/1FrTlLWIb5fVswDBTqliIks8QU7fY97RTtus5--7r_q4/edit#gid=596077008). Of the two datasets I explored, it was decided that we would keep data from \"The Movie DB\" dataset. The kept columns from the table will be:\n",
    "\n",
    "**Keeping**\n",
    "\n",
    "- release_date\n",
    "- original_title\n",
    "- vote_average\n",
    "- vote_count\n",
    "- popularity \n",
    "\n",
    "**Creating**\n",
    "\n",
    "- movie_id\n",
    "- release_month\n",
    "\n",
    "and a column called \"movie_id\" will be created by combining the 'original_title' and the year from the'release_date' column. This column will be used as a key when creating the master 'table. release_month' column will be used in future analysis."
   ]
  },
  {
   "cell_type": "code",
   "execution_count": 160,
   "metadata": {},
   "outputs": [],
   "source": [
    "# Import packages for Cleaning\n",
    "import pandas as pd\n",
    "import numpy as np"
   ]
  },
  {
   "cell_type": "code",
   "execution_count": 161,
   "metadata": {},
   "outputs": [],
   "source": [
    "# There is an index column in this data so I set the parameter 'index_col' to 1.\n",
    "tmdb = pd.read_csv('../Data/zippedData/tmdb.movies.csv.gz', index_col=0)"
   ]
  },
  {
   "cell_type": "code",
   "execution_count": 162,
   "metadata": {},
   "outputs": [
    {
     "data": {
      "text/html": [
       "<div>\n",
       "<style scoped>\n",
       "    .dataframe tbody tr th:only-of-type {\n",
       "        vertical-align: middle;\n",
       "    }\n",
       "\n",
       "    .dataframe tbody tr th {\n",
       "        vertical-align: top;\n",
       "    }\n",
       "\n",
       "    .dataframe thead th {\n",
       "        text-align: right;\n",
       "    }\n",
       "</style>\n",
       "<table border=\"1\" class=\"dataframe\">\n",
       "  <thead>\n",
       "    <tr style=\"text-align: right;\">\n",
       "      <th></th>\n",
       "      <th>genre_ids</th>\n",
       "      <th>id</th>\n",
       "      <th>original_language</th>\n",
       "      <th>original_title</th>\n",
       "      <th>popularity</th>\n",
       "      <th>release_date</th>\n",
       "      <th>title</th>\n",
       "      <th>vote_average</th>\n",
       "      <th>vote_count</th>\n",
       "    </tr>\n",
       "  </thead>\n",
       "  <tbody>\n",
       "    <tr>\n",
       "      <th>0</th>\n",
       "      <td>[12, 14, 10751]</td>\n",
       "      <td>12444</td>\n",
       "      <td>en</td>\n",
       "      <td>Harry Potter and the Deathly Hallows: Part 1</td>\n",
       "      <td>33.533</td>\n",
       "      <td>2010-11-19</td>\n",
       "      <td>Harry Potter and the Deathly Hallows: Part 1</td>\n",
       "      <td>7.7</td>\n",
       "      <td>10788</td>\n",
       "    </tr>\n",
       "    <tr>\n",
       "      <th>1</th>\n",
       "      <td>[14, 12, 16, 10751]</td>\n",
       "      <td>10191</td>\n",
       "      <td>en</td>\n",
       "      <td>How to Train Your Dragon</td>\n",
       "      <td>28.734</td>\n",
       "      <td>2010-03-26</td>\n",
       "      <td>How to Train Your Dragon</td>\n",
       "      <td>7.7</td>\n",
       "      <td>7610</td>\n",
       "    </tr>\n",
       "    <tr>\n",
       "      <th>2</th>\n",
       "      <td>[12, 28, 878]</td>\n",
       "      <td>10138</td>\n",
       "      <td>en</td>\n",
       "      <td>Iron Man 2</td>\n",
       "      <td>28.515</td>\n",
       "      <td>2010-05-07</td>\n",
       "      <td>Iron Man 2</td>\n",
       "      <td>6.8</td>\n",
       "      <td>12368</td>\n",
       "    </tr>\n",
       "    <tr>\n",
       "      <th>3</th>\n",
       "      <td>[16, 35, 10751]</td>\n",
       "      <td>862</td>\n",
       "      <td>en</td>\n",
       "      <td>Toy Story</td>\n",
       "      <td>28.005</td>\n",
       "      <td>1995-11-22</td>\n",
       "      <td>Toy Story</td>\n",
       "      <td>7.9</td>\n",
       "      <td>10174</td>\n",
       "    </tr>\n",
       "    <tr>\n",
       "      <th>4</th>\n",
       "      <td>[28, 878, 12]</td>\n",
       "      <td>27205</td>\n",
       "      <td>en</td>\n",
       "      <td>Inception</td>\n",
       "      <td>27.920</td>\n",
       "      <td>2010-07-16</td>\n",
       "      <td>Inception</td>\n",
       "      <td>8.3</td>\n",
       "      <td>22186</td>\n",
       "    </tr>\n",
       "  </tbody>\n",
       "</table>\n",
       "</div>"
      ],
      "text/plain": [
       "             genre_ids     id original_language  \\\n",
       "0      [12, 14, 10751]  12444                en   \n",
       "1  [14, 12, 16, 10751]  10191                en   \n",
       "2        [12, 28, 878]  10138                en   \n",
       "3      [16, 35, 10751]    862                en   \n",
       "4        [28, 878, 12]  27205                en   \n",
       "\n",
       "                                 original_title  popularity release_date  \\\n",
       "0  Harry Potter and the Deathly Hallows: Part 1      33.533   2010-11-19   \n",
       "1                      How to Train Your Dragon      28.734   2010-03-26   \n",
       "2                                    Iron Man 2      28.515   2010-05-07   \n",
       "3                                     Toy Story      28.005   1995-11-22   \n",
       "4                                     Inception      27.920   2010-07-16   \n",
       "\n",
       "                                          title  vote_average  vote_count  \n",
       "0  Harry Potter and the Deathly Hallows: Part 1           7.7       10788  \n",
       "1                      How to Train Your Dragon           7.7        7610  \n",
       "2                                    Iron Man 2           6.8       12368  \n",
       "3                                     Toy Story           7.9       10174  \n",
       "4                                     Inception           8.3       22186  "
      ]
     },
     "execution_count": 162,
     "metadata": {},
     "output_type": "execute_result"
    }
   ],
   "source": [
    "# Visually confirm no issues with import.\n",
    "tmdb.head()"
   ]
  },
  {
   "cell_type": "markdown",
   "metadata": {},
   "source": [
    "## Selecting Desired Columns"
   ]
  },
  {
   "cell_type": "code",
   "execution_count": 163,
   "metadata": {},
   "outputs": [],
   "source": [
    "# First, I'm going to drop the columns that we decided not to use: 'genre_ids', 'id', and 'original_language'\n",
    "tmdb.drop(columns=['genre_ids', 'id','original_language'], inplace=True)"
   ]
  },
  {
   "cell_type": "code",
   "execution_count": 164,
   "metadata": {},
   "outputs": [
    {
     "data": {
      "text/html": [
       "<div>\n",
       "<style scoped>\n",
       "    .dataframe tbody tr th:only-of-type {\n",
       "        vertical-align: middle;\n",
       "    }\n",
       "\n",
       "    .dataframe tbody tr th {\n",
       "        vertical-align: top;\n",
       "    }\n",
       "\n",
       "    .dataframe thead th {\n",
       "        text-align: right;\n",
       "    }\n",
       "</style>\n",
       "<table border=\"1\" class=\"dataframe\">\n",
       "  <thead>\n",
       "    <tr style=\"text-align: right;\">\n",
       "      <th></th>\n",
       "      <th>original_title</th>\n",
       "      <th>popularity</th>\n",
       "      <th>release_date</th>\n",
       "      <th>title</th>\n",
       "      <th>vote_average</th>\n",
       "      <th>vote_count</th>\n",
       "    </tr>\n",
       "  </thead>\n",
       "  <tbody>\n",
       "    <tr>\n",
       "      <th>14</th>\n",
       "      <td>Saw 3D</td>\n",
       "      <td>20.370</td>\n",
       "      <td>2010-10-28</td>\n",
       "      <td>Saw: The Final Chapter</td>\n",
       "      <td>6.0</td>\n",
       "      <td>1488</td>\n",
       "    </tr>\n",
       "    <tr>\n",
       "      <th>49</th>\n",
       "      <td>Tres metros sobre el cielo</td>\n",
       "      <td>13.721</td>\n",
       "      <td>2010-12-20</td>\n",
       "      <td>Three Steps Above Heaven</td>\n",
       "      <td>7.5</td>\n",
       "      <td>960</td>\n",
       "    </tr>\n",
       "    <tr>\n",
       "      <th>67</th>\n",
       "      <td>Arthur 3: la guerre des deux mondes</td>\n",
       "      <td>12.679</td>\n",
       "      <td>2010-08-22</td>\n",
       "      <td>Arthur 3: The War of the Two Worlds</td>\n",
       "      <td>5.6</td>\n",
       "      <td>865</td>\n",
       "    </tr>\n",
       "    <tr>\n",
       "      <th>70</th>\n",
       "      <td>El secreto de sus ojos</td>\n",
       "      <td>12.531</td>\n",
       "      <td>2010-04-16</td>\n",
       "      <td>The Secret in Their Eyes</td>\n",
       "      <td>7.9</td>\n",
       "      <td>1141</td>\n",
       "    </tr>\n",
       "    <tr>\n",
       "      <th>75</th>\n",
       "      <td>サマーウォーズ</td>\n",
       "      <td>12.275</td>\n",
       "      <td>2010-10-13</td>\n",
       "      <td>Summer Wars</td>\n",
       "      <td>7.5</td>\n",
       "      <td>447</td>\n",
       "    </tr>\n",
       "    <tr>\n",
       "      <th>...</th>\n",
       "      <td>...</td>\n",
       "      <td>...</td>\n",
       "      <td>...</td>\n",
       "      <td>...</td>\n",
       "      <td>...</td>\n",
       "      <td>...</td>\n",
       "    </tr>\n",
       "    <tr>\n",
       "      <th>26409</th>\n",
       "      <td>你好，之华</td>\n",
       "      <td>0.600</td>\n",
       "      <td>2018-11-09</td>\n",
       "      <td>Last Letter</td>\n",
       "      <td>6.0</td>\n",
       "      <td>1</td>\n",
       "    </tr>\n",
       "    <tr>\n",
       "      <th>26422</th>\n",
       "      <td>El verano del león eléctrico</td>\n",
       "      <td>0.600</td>\n",
       "      <td>2018-11-12</td>\n",
       "      <td>The Summer of the Electric Lion</td>\n",
       "      <td>6.0</td>\n",
       "      <td>1</td>\n",
       "    </tr>\n",
       "    <tr>\n",
       "      <th>26432</th>\n",
       "      <td>Contes de Juillet</td>\n",
       "      <td>0.600</td>\n",
       "      <td>2018-03-09</td>\n",
       "      <td>July Tales</td>\n",
       "      <td>6.0</td>\n",
       "      <td>1</td>\n",
       "    </tr>\n",
       "    <tr>\n",
       "      <th>26494</th>\n",
       "      <td>La última virgen</td>\n",
       "      <td>0.600</td>\n",
       "      <td>2018-05-26</td>\n",
       "      <td>The Last Virgin</td>\n",
       "      <td>2.0</td>\n",
       "      <td>1</td>\n",
       "    </tr>\n",
       "    <tr>\n",
       "      <th>26507</th>\n",
       "      <td>Dreamaway</td>\n",
       "      <td>0.600</td>\n",
       "      <td>2018-10-14</td>\n",
       "      <td>Dream Away</td>\n",
       "      <td>0.0</td>\n",
       "      <td>2</td>\n",
       "    </tr>\n",
       "  </tbody>\n",
       "</table>\n",
       "<p>2544 rows × 6 columns</p>\n",
       "</div>"
      ],
      "text/plain": [
       "                            original_title  popularity release_date  \\\n",
       "14                                  Saw 3D      20.370   2010-10-28   \n",
       "49              Tres metros sobre el cielo      13.721   2010-12-20   \n",
       "67     Arthur 3: la guerre des deux mondes      12.679   2010-08-22   \n",
       "70                  El secreto de sus ojos      12.531   2010-04-16   \n",
       "75                                 サマーウォーズ      12.275   2010-10-13   \n",
       "...                                    ...         ...          ...   \n",
       "26409                                你好，之华       0.600   2018-11-09   \n",
       "26422         El verano del león eléctrico       0.600   2018-11-12   \n",
       "26432                    Contes de Juillet       0.600   2018-03-09   \n",
       "26494                     La última virgen       0.600   2018-05-26   \n",
       "26507                            Dreamaway       0.600   2018-10-14   \n",
       "\n",
       "                                     title  vote_average  vote_count  \n",
       "14                  Saw: The Final Chapter           6.0        1488  \n",
       "49                Three Steps Above Heaven           7.5         960  \n",
       "67     Arthur 3: The War of the Two Worlds           5.6         865  \n",
       "70                The Secret in Their Eyes           7.9        1141  \n",
       "75                             Summer Wars           7.5         447  \n",
       "...                                    ...           ...         ...  \n",
       "26409                          Last Letter           6.0           1  \n",
       "26422      The Summer of the Electric Lion           6.0           1  \n",
       "26432                           July Tales           6.0           1  \n",
       "26494                      The Last Virgin           2.0           1  \n",
       "26507                           Dream Away           0.0           2  \n",
       "\n",
       "[2544 rows x 6 columns]"
      ]
     },
     "execution_count": 164,
     "metadata": {},
     "output_type": "execute_result"
    }
   ],
   "source": [
    "# Before dropping one of them, I'm going to check the differences between 'original_title' and 'title'\n",
    "tmdb[tmdb['original_title'] != tmdb['title']]"
   ]
  },
  {
   "cell_type": "markdown",
   "metadata": {},
   "source": [
    "It looks like 'original_title' is either  \n",
    "1. The title of the movie in its original language\n",
    "2. The 'prototype' or 'working' title for the movie\n",
    "\n",
    "I'm going to keep the 'title' column instead, as keeping the 'original_title' column will create problems when creating the 'movie_id' column later."
   ]
  },
  {
   "cell_type": "code",
   "execution_count": 165,
   "metadata": {},
   "outputs": [
    {
     "data": {
      "text/html": [
       "<div>\n",
       "<style scoped>\n",
       "    .dataframe tbody tr th:only-of-type {\n",
       "        vertical-align: middle;\n",
       "    }\n",
       "\n",
       "    .dataframe tbody tr th {\n",
       "        vertical-align: top;\n",
       "    }\n",
       "\n",
       "    .dataframe thead th {\n",
       "        text-align: right;\n",
       "    }\n",
       "</style>\n",
       "<table border=\"1\" class=\"dataframe\">\n",
       "  <thead>\n",
       "    <tr style=\"text-align: right;\">\n",
       "      <th></th>\n",
       "      <th>popularity</th>\n",
       "      <th>release_date</th>\n",
       "      <th>title</th>\n",
       "      <th>vote_average</th>\n",
       "      <th>vote_count</th>\n",
       "    </tr>\n",
       "  </thead>\n",
       "  <tbody>\n",
       "    <tr>\n",
       "      <th>0</th>\n",
       "      <td>33.533</td>\n",
       "      <td>2010-11-19</td>\n",
       "      <td>Harry Potter and the Deathly Hallows: Part 1</td>\n",
       "      <td>7.7</td>\n",
       "      <td>10788</td>\n",
       "    </tr>\n",
       "    <tr>\n",
       "      <th>1</th>\n",
       "      <td>28.734</td>\n",
       "      <td>2010-03-26</td>\n",
       "      <td>How to Train Your Dragon</td>\n",
       "      <td>7.7</td>\n",
       "      <td>7610</td>\n",
       "    </tr>\n",
       "    <tr>\n",
       "      <th>2</th>\n",
       "      <td>28.515</td>\n",
       "      <td>2010-05-07</td>\n",
       "      <td>Iron Man 2</td>\n",
       "      <td>6.8</td>\n",
       "      <td>12368</td>\n",
       "    </tr>\n",
       "    <tr>\n",
       "      <th>3</th>\n",
       "      <td>28.005</td>\n",
       "      <td>1995-11-22</td>\n",
       "      <td>Toy Story</td>\n",
       "      <td>7.9</td>\n",
       "      <td>10174</td>\n",
       "    </tr>\n",
       "    <tr>\n",
       "      <th>4</th>\n",
       "      <td>27.920</td>\n",
       "      <td>2010-07-16</td>\n",
       "      <td>Inception</td>\n",
       "      <td>8.3</td>\n",
       "      <td>22186</td>\n",
       "    </tr>\n",
       "  </tbody>\n",
       "</table>\n",
       "</div>"
      ],
      "text/plain": [
       "   popularity release_date                                         title  \\\n",
       "0      33.533   2010-11-19  Harry Potter and the Deathly Hallows: Part 1   \n",
       "1      28.734   2010-03-26                      How to Train Your Dragon   \n",
       "2      28.515   2010-05-07                                    Iron Man 2   \n",
       "3      28.005   1995-11-22                                     Toy Story   \n",
       "4      27.920   2010-07-16                                     Inception   \n",
       "\n",
       "   vote_average  vote_count  \n",
       "0           7.7       10788  \n",
       "1           7.7        7610  \n",
       "2           6.8       12368  \n",
       "3           7.9       10174  \n",
       "4           8.3       22186  "
      ]
     },
     "execution_count": 165,
     "metadata": {},
     "output_type": "execute_result"
    }
   ],
   "source": [
    "tmdb.drop(columns='original_title', inplace=True)\n",
    "\n",
    "# Visually confirm expected result\n",
    "tmdb.head()"
   ]
  },
  {
   "cell_type": "markdown",
   "metadata": {},
   "source": [
    "## Confirming Valid Data\n",
    "\n",
    "I want to make sure that I don't have any placeholder data in my columns before sending it off to the master table."
   ]
  },
  {
   "cell_type": "markdown",
   "metadata": {},
   "source": [
    "### Popularity"
   ]
  },
  {
   "cell_type": "code",
   "execution_count": 166,
   "metadata": {},
   "outputs": [
    {
     "data": {
      "text/plain": [
       "0.600     7037\n",
       "1.400      649\n",
       "0.840      587\n",
       "0.624      104\n",
       "0.625       92\n",
       "          ... \n",
       "3.742        1\n",
       "14.749       1\n",
       "7.924        1\n",
       "8.414        1\n",
       "9.060        1\n",
       "Name: popularity, Length: 7425, dtype: int64"
      ]
     },
     "execution_count": 166,
     "metadata": {},
     "output_type": "execute_result"
    }
   ],
   "source": [
    "# Checking popularity\n",
    "tmdb['popularity'].value_counts()"
   ]
  },
  {
   "cell_type": "markdown",
   "metadata": {},
   "source": [
    "After discussion with my group, we decided that it is likley that the value '0.600' is a result of a quirk with The Movie DB's algorithm for calculating popularity. The odd results are more likley due to low user interaction. We decided to not do anything with it since its not technically placeholder data. "
   ]
  },
  {
   "cell_type": "markdown",
   "metadata": {},
   "source": [
    "### Release Date"
   ]
  },
  {
   "cell_type": "code",
   "execution_count": 167,
   "metadata": {},
   "outputs": [
    {
     "data": {
      "text/plain": [
       "2010-01-01    269\n",
       "2011-01-01    200\n",
       "2012-01-01    155\n",
       "2014-01-01    155\n",
       "2013-01-01    145\n",
       "             ... \n",
       "1985-08-30      1\n",
       "2012-06-28      1\n",
       "1966-08-24      1\n",
       "2011-02-27      1\n",
       "2010-01-03      1\n",
       "Name: release_date, Length: 3433, dtype: int64"
      ]
     },
     "execution_count": 167,
     "metadata": {},
     "output_type": "execute_result"
    }
   ],
   "source": [
    "tmdb['release_date'].value_counts()"
   ]
  },
  {
   "cell_type": "markdown",
   "metadata": {},
   "source": [
    "There is a strong possibility that January 1st is a placeholder month and date. This won't be a problem for creating the 'movie_id' column since the year is probably correct, but it will be a problem when comparing the release month/day to anything. There are around 1000 of them out of 3000 entries."
   ]
  },
  {
   "cell_type": "markdown",
   "metadata": {},
   "source": [
    "### Title Column"
   ]
  },
  {
   "cell_type": "code",
   "execution_count": 168,
   "metadata": {},
   "outputs": [
    {
     "data": {
      "text/plain": [
       "Home                                     7\n",
       "Eden                                     7\n",
       "Aftermath                                5\n",
       "Lucky                                    5\n",
       "Truth or Dare                            5\n",
       "                                        ..\n",
       "Game of Thrones: Conquest & Rebellion    1\n",
       "My Neighbourhood                         1\n",
       "Erratum                                  1\n",
       "A Path Appears                           1\n",
       "James Gandolfini: Tribute To A Friend    1\n",
       "Name: title, Length: 24688, dtype: int64"
      ]
     },
     "execution_count": 168,
     "metadata": {},
     "output_type": "execute_result"
    }
   ],
   "source": [
    "tmdb['title'].value_counts()"
   ]
  },
  {
   "cell_type": "markdown",
   "metadata": {},
   "source": [
    "Some common names here, nothing stirkes me as odd here."
   ]
  },
  {
   "cell_type": "markdown",
   "metadata": {},
   "source": [
    "### Vote Average"
   ]
  },
  {
   "cell_type": "code",
   "execution_count": 169,
   "metadata": {},
   "outputs": [
    {
     "data": {
      "text/plain": [
       "6.0     1940\n",
       "7.0     1560\n",
       "5.0     1486\n",
       "10.0    1252\n",
       "8.0     1231\n",
       "        ... \n",
       "9.4        6\n",
       "1.2        3\n",
       "1.4        3\n",
       "9.1        2\n",
       "9.7        2\n",
       "Name: vote_average, Length: 91, dtype: int64"
      ]
     },
     "execution_count": 169,
     "metadata": {},
     "output_type": "execute_result"
    }
   ],
   "source": [
    "tmdb['vote_average'].value_counts()"
   ]
  },
  {
   "cell_type": "markdown",
   "metadata": {},
   "source": [
    "Some of these values look odd to me, but none of them seem impossible."
   ]
  },
  {
   "cell_type": "markdown",
   "metadata": {},
   "source": [
    "### Vote Count"
   ]
  },
  {
   "cell_type": "code",
   "execution_count": 170,
   "metadata": {},
   "outputs": [
    {
     "data": {
      "text/plain": [
       "1       6541\n",
       "2       3044\n",
       "3       1757\n",
       "4       1347\n",
       "5        969\n",
       "        ... \n",
       "2328       1\n",
       "6538       1\n",
       "489        1\n",
       "2600       1\n",
       "2049       1\n",
       "Name: vote_count, Length: 1693, dtype: int64"
      ]
     },
     "execution_count": 170,
     "metadata": {},
     "output_type": "execute_result"
    }
   ],
   "source": [
    "tmdb['vote_count'].value_counts()"
   ]
  },
  {
   "cell_type": "markdown",
   "metadata": {},
   "source": [
    "Again, nothing terribly odd here."
   ]
  },
  {
   "cell_type": "markdown",
   "metadata": {},
   "source": [
    "## Movie ID Creation"
   ]
  },
  {
   "cell_type": "code",
   "execution_count": 171,
   "metadata": {},
   "outputs": [],
   "source": [
    "# This column is the lowercase name of the movie, combined with the year released at the end.\n",
    "tmdb['movie_id'] = tmdb['title'].str.strip().str.lower()\n",
    "\n",
    "#Now combine the year\n",
    "tmdb['movie_id'] = tmdb['movie_id']+tmdb['release_date'].str.slice(0, 4)"
   ]
  },
  {
   "cell_type": "code",
   "execution_count": 172,
   "metadata": {},
   "outputs": [
    {
     "data": {
      "text/html": [
       "<div>\n",
       "<style scoped>\n",
       "    .dataframe tbody tr th:only-of-type {\n",
       "        vertical-align: middle;\n",
       "    }\n",
       "\n",
       "    .dataframe tbody tr th {\n",
       "        vertical-align: top;\n",
       "    }\n",
       "\n",
       "    .dataframe thead th {\n",
       "        text-align: right;\n",
       "    }\n",
       "</style>\n",
       "<table border=\"1\" class=\"dataframe\">\n",
       "  <thead>\n",
       "    <tr style=\"text-align: right;\">\n",
       "      <th></th>\n",
       "      <th>popularity</th>\n",
       "      <th>release_date</th>\n",
       "      <th>title</th>\n",
       "      <th>vote_average</th>\n",
       "      <th>vote_count</th>\n",
       "      <th>movie_id</th>\n",
       "    </tr>\n",
       "  </thead>\n",
       "  <tbody>\n",
       "    <tr>\n",
       "      <th>0</th>\n",
       "      <td>33.533</td>\n",
       "      <td>2010-11-19</td>\n",
       "      <td>Harry Potter and the Deathly Hallows: Part 1</td>\n",
       "      <td>7.7</td>\n",
       "      <td>10788</td>\n",
       "      <td>harry potter and the deathly hallows: part 12010</td>\n",
       "    </tr>\n",
       "    <tr>\n",
       "      <th>1</th>\n",
       "      <td>28.734</td>\n",
       "      <td>2010-03-26</td>\n",
       "      <td>How to Train Your Dragon</td>\n",
       "      <td>7.7</td>\n",
       "      <td>7610</td>\n",
       "      <td>how to train your dragon2010</td>\n",
       "    </tr>\n",
       "    <tr>\n",
       "      <th>2</th>\n",
       "      <td>28.515</td>\n",
       "      <td>2010-05-07</td>\n",
       "      <td>Iron Man 2</td>\n",
       "      <td>6.8</td>\n",
       "      <td>12368</td>\n",
       "      <td>iron man 22010</td>\n",
       "    </tr>\n",
       "    <tr>\n",
       "      <th>3</th>\n",
       "      <td>28.005</td>\n",
       "      <td>1995-11-22</td>\n",
       "      <td>Toy Story</td>\n",
       "      <td>7.9</td>\n",
       "      <td>10174</td>\n",
       "      <td>toy story1995</td>\n",
       "    </tr>\n",
       "    <tr>\n",
       "      <th>4</th>\n",
       "      <td>27.920</td>\n",
       "      <td>2010-07-16</td>\n",
       "      <td>Inception</td>\n",
       "      <td>8.3</td>\n",
       "      <td>22186</td>\n",
       "      <td>inception2010</td>\n",
       "    </tr>\n",
       "  </tbody>\n",
       "</table>\n",
       "</div>"
      ],
      "text/plain": [
       "   popularity release_date                                         title  \\\n",
       "0      33.533   2010-11-19  Harry Potter and the Deathly Hallows: Part 1   \n",
       "1      28.734   2010-03-26                      How to Train Your Dragon   \n",
       "2      28.515   2010-05-07                                    Iron Man 2   \n",
       "3      28.005   1995-11-22                                     Toy Story   \n",
       "4      27.920   2010-07-16                                     Inception   \n",
       "\n",
       "   vote_average  vote_count                                          movie_id  \n",
       "0           7.7       10788  harry potter and the deathly hallows: part 12010  \n",
       "1           7.7        7610                      how to train your dragon2010  \n",
       "2           6.8       12368                                    iron man 22010  \n",
       "3           7.9       10174                                     toy story1995  \n",
       "4           8.3       22186                                     inception2010  "
      ]
     },
     "execution_count": 172,
     "metadata": {},
     "output_type": "execute_result"
    }
   ],
   "source": [
    "# Visually confirm expected result.\n",
    "tmdb.head()"
   ]
  },
  {
   "cell_type": "markdown",
   "metadata": {},
   "source": [
    "## Setting Datatypes"
   ]
  },
  {
   "cell_type": "code",
   "execution_count": 173,
   "metadata": {},
   "outputs": [
    {
     "name": "stdout",
     "output_type": "stream",
     "text": [
      "<class 'pandas.core.frame.DataFrame'>\n",
      "Int64Index: 26517 entries, 0 to 26516\n",
      "Data columns (total 6 columns):\n",
      " #   Column        Non-Null Count  Dtype  \n",
      "---  ------        --------------  -----  \n",
      " 0   popularity    26517 non-null  float64\n",
      " 1   release_date  26517 non-null  object \n",
      " 2   title         26517 non-null  object \n",
      " 3   vote_average  26517 non-null  float64\n",
      " 4   vote_count    26517 non-null  int64  \n",
      " 5   movie_id      26517 non-null  object \n",
      "dtypes: float64(2), int64(1), object(3)\n",
      "memory usage: 1.4+ MB\n"
     ]
    }
   ],
   "source": [
    "# Check datatypes\n",
    "tmdb.info()"
   ]
  },
  {
   "cell_type": "code",
   "execution_count": 174,
   "metadata": {},
   "outputs": [
    {
     "name": "stdout",
     "output_type": "stream",
     "text": [
      "<class 'pandas.core.frame.DataFrame'>\n",
      "Int64Index: 26517 entries, 0 to 26516\n",
      "Data columns (total 6 columns):\n",
      " #   Column        Non-Null Count  Dtype         \n",
      "---  ------        --------------  -----         \n",
      " 0   popularity    26517 non-null  float64       \n",
      " 1   release_date  26517 non-null  datetime64[ns]\n",
      " 2   title         26517 non-null  object        \n",
      " 3   vote_average  26517 non-null  float64       \n",
      " 4   vote_count    26517 non-null  int64         \n",
      " 5   movie_id      26517 non-null  object        \n",
      "dtypes: datetime64[ns](1), float64(2), int64(1), object(2)\n",
      "memory usage: 1.4+ MB\n"
     ]
    }
   ],
   "source": [
    "# All datatypes are as I need them to be except for 'release_date'. It needs to be a datetime object.\n",
    "tmdb['release_date'] = tmdb['release_date'].astype('datetime64')\n",
    "# Confirm change\n",
    "tmdb.info()"
   ]
  },
  {
   "cell_type": "code",
   "execution_count": 175,
   "metadata": {},
   "outputs": [
    {
     "data": {
      "text/plain": [
       "0        11\n",
       "1         3\n",
       "2         5\n",
       "3        11\n",
       "4         7\n",
       "         ..\n",
       "26512    10\n",
       "26513     5\n",
       "26514    10\n",
       "26515     6\n",
       "26516    10\n",
       "Name: release_date, Length: 26517, dtype: int64"
      ]
     },
     "execution_count": 175,
     "metadata": {},
     "output_type": "execute_result"
    }
   ],
   "source": [
    "# One more confirmation that I can get the month from the dt object, as it will be needed to create 'release_month'\n",
    "tmdb['release_date'].dt.month"
   ]
  },
  {
   "cell_type": "markdown",
   "metadata": {},
   "source": [
    "All other Columns are already the desired datatype."
   ]
  },
  {
   "cell_type": "markdown",
   "metadata": {},
   "source": [
    "## Release Month Creation\n"
   ]
  },
  {
   "cell_type": "code",
   "execution_count": 176,
   "metadata": {},
   "outputs": [],
   "source": [
    "# Now that 'release_date' has been converted to a datetime object we can create the 'release_month column'\n",
    "tmdb['release_month'] = tmdb['release_date'].dt.month"
   ]
  },
  {
   "cell_type": "code",
   "execution_count": 177,
   "metadata": {},
   "outputs": [
    {
     "data": {
      "text/html": [
       "<div>\n",
       "<style scoped>\n",
       "    .dataframe tbody tr th:only-of-type {\n",
       "        vertical-align: middle;\n",
       "    }\n",
       "\n",
       "    .dataframe tbody tr th {\n",
       "        vertical-align: top;\n",
       "    }\n",
       "\n",
       "    .dataframe thead th {\n",
       "        text-align: right;\n",
       "    }\n",
       "</style>\n",
       "<table border=\"1\" class=\"dataframe\">\n",
       "  <thead>\n",
       "    <tr style=\"text-align: right;\">\n",
       "      <th></th>\n",
       "      <th>popularity</th>\n",
       "      <th>release_date</th>\n",
       "      <th>title</th>\n",
       "      <th>vote_average</th>\n",
       "      <th>vote_count</th>\n",
       "      <th>movie_id</th>\n",
       "      <th>release_month</th>\n",
       "    </tr>\n",
       "  </thead>\n",
       "  <tbody>\n",
       "    <tr>\n",
       "      <th>0</th>\n",
       "      <td>33.533</td>\n",
       "      <td>2010-11-19</td>\n",
       "      <td>Harry Potter and the Deathly Hallows: Part 1</td>\n",
       "      <td>7.7</td>\n",
       "      <td>10788</td>\n",
       "      <td>harry potter and the deathly hallows: part 12010</td>\n",
       "      <td>11</td>\n",
       "    </tr>\n",
       "    <tr>\n",
       "      <th>1</th>\n",
       "      <td>28.734</td>\n",
       "      <td>2010-03-26</td>\n",
       "      <td>How to Train Your Dragon</td>\n",
       "      <td>7.7</td>\n",
       "      <td>7610</td>\n",
       "      <td>how to train your dragon2010</td>\n",
       "      <td>3</td>\n",
       "    </tr>\n",
       "    <tr>\n",
       "      <th>2</th>\n",
       "      <td>28.515</td>\n",
       "      <td>2010-05-07</td>\n",
       "      <td>Iron Man 2</td>\n",
       "      <td>6.8</td>\n",
       "      <td>12368</td>\n",
       "      <td>iron man 22010</td>\n",
       "      <td>5</td>\n",
       "    </tr>\n",
       "    <tr>\n",
       "      <th>3</th>\n",
       "      <td>28.005</td>\n",
       "      <td>1995-11-22</td>\n",
       "      <td>Toy Story</td>\n",
       "      <td>7.9</td>\n",
       "      <td>10174</td>\n",
       "      <td>toy story1995</td>\n",
       "      <td>11</td>\n",
       "    </tr>\n",
       "    <tr>\n",
       "      <th>4</th>\n",
       "      <td>27.920</td>\n",
       "      <td>2010-07-16</td>\n",
       "      <td>Inception</td>\n",
       "      <td>8.3</td>\n",
       "      <td>22186</td>\n",
       "      <td>inception2010</td>\n",
       "      <td>7</td>\n",
       "    </tr>\n",
       "  </tbody>\n",
       "</table>\n",
       "</div>"
      ],
      "text/plain": [
       "   popularity release_date                                         title  \\\n",
       "0      33.533   2010-11-19  Harry Potter and the Deathly Hallows: Part 1   \n",
       "1      28.734   2010-03-26                      How to Train Your Dragon   \n",
       "2      28.515   2010-05-07                                    Iron Man 2   \n",
       "3      28.005   1995-11-22                                     Toy Story   \n",
       "4      27.920   2010-07-16                                     Inception   \n",
       "\n",
       "   vote_average  vote_count                                          movie_id  \\\n",
       "0           7.7       10788  harry potter and the deathly hallows: part 12010   \n",
       "1           7.7        7610                      how to train your dragon2010   \n",
       "2           6.8       12368                                    iron man 22010   \n",
       "3           7.9       10174                                     toy story1995   \n",
       "4           8.3       22186                                     inception2010   \n",
       "\n",
       "   release_month  \n",
       "0             11  \n",
       "1              3  \n",
       "2              5  \n",
       "3             11  \n",
       "4              7  "
      ]
     },
     "execution_count": 177,
     "metadata": {},
     "output_type": "execute_result"
    }
   ],
   "source": [
    "# One final check that data looks as expected\n",
    "tmdb.head()"
   ]
  },
  {
   "cell_type": "code",
   "execution_count": 178,
   "metadata": {},
   "outputs": [
    {
     "data": {
      "text/html": [
       "<div>\n",
       "<style scoped>\n",
       "    .dataframe tbody tr th:only-of-type {\n",
       "        vertical-align: middle;\n",
       "    }\n",
       "\n",
       "    .dataframe tbody tr th {\n",
       "        vertical-align: top;\n",
       "    }\n",
       "\n",
       "    .dataframe thead th {\n",
       "        text-align: right;\n",
       "    }\n",
       "</style>\n",
       "<table border=\"1\" class=\"dataframe\">\n",
       "  <thead>\n",
       "    <tr style=\"text-align: right;\">\n",
       "      <th></th>\n",
       "      <th>popularity</th>\n",
       "      <th>release_date</th>\n",
       "      <th>title</th>\n",
       "      <th>vote_average</th>\n",
       "      <th>vote_count</th>\n",
       "      <th>release_month</th>\n",
       "    </tr>\n",
       "    <tr>\n",
       "      <th>movie_id</th>\n",
       "      <th></th>\n",
       "      <th></th>\n",
       "      <th></th>\n",
       "      <th></th>\n",
       "      <th></th>\n",
       "      <th></th>\n",
       "    </tr>\n",
       "  </thead>\n",
       "  <tbody>\n",
       "    <tr>\n",
       "      <th>harry potter and the deathly hallows: part 12010</th>\n",
       "      <td>33.533</td>\n",
       "      <td>2010-11-19</td>\n",
       "      <td>Harry Potter and the Deathly Hallows: Part 1</td>\n",
       "      <td>7.7</td>\n",
       "      <td>10788</td>\n",
       "      <td>11</td>\n",
       "    </tr>\n",
       "    <tr>\n",
       "      <th>how to train your dragon2010</th>\n",
       "      <td>28.734</td>\n",
       "      <td>2010-03-26</td>\n",
       "      <td>How to Train Your Dragon</td>\n",
       "      <td>7.7</td>\n",
       "      <td>7610</td>\n",
       "      <td>3</td>\n",
       "    </tr>\n",
       "    <tr>\n",
       "      <th>iron man 22010</th>\n",
       "      <td>28.515</td>\n",
       "      <td>2010-05-07</td>\n",
       "      <td>Iron Man 2</td>\n",
       "      <td>6.8</td>\n",
       "      <td>12368</td>\n",
       "      <td>5</td>\n",
       "    </tr>\n",
       "    <tr>\n",
       "      <th>toy story1995</th>\n",
       "      <td>28.005</td>\n",
       "      <td>1995-11-22</td>\n",
       "      <td>Toy Story</td>\n",
       "      <td>7.9</td>\n",
       "      <td>10174</td>\n",
       "      <td>11</td>\n",
       "    </tr>\n",
       "    <tr>\n",
       "      <th>inception2010</th>\n",
       "      <td>27.920</td>\n",
       "      <td>2010-07-16</td>\n",
       "      <td>Inception</td>\n",
       "      <td>8.3</td>\n",
       "      <td>22186</td>\n",
       "      <td>7</td>\n",
       "    </tr>\n",
       "    <tr>\n",
       "      <th>...</th>\n",
       "      <td>...</td>\n",
       "      <td>...</td>\n",
       "      <td>...</td>\n",
       "      <td>...</td>\n",
       "      <td>...</td>\n",
       "      <td>...</td>\n",
       "    </tr>\n",
       "    <tr>\n",
       "      <th>laboratory conditions2018</th>\n",
       "      <td>0.600</td>\n",
       "      <td>2018-10-13</td>\n",
       "      <td>Laboratory Conditions</td>\n",
       "      <td>0.0</td>\n",
       "      <td>1</td>\n",
       "      <td>10</td>\n",
       "    </tr>\n",
       "    <tr>\n",
       "      <th>_exhibit_84xxx_2018</th>\n",
       "      <td>0.600</td>\n",
       "      <td>2018-05-01</td>\n",
       "      <td>_EXHIBIT_84xxx_</td>\n",
       "      <td>0.0</td>\n",
       "      <td>1</td>\n",
       "      <td>5</td>\n",
       "    </tr>\n",
       "    <tr>\n",
       "      <th>the last one2018</th>\n",
       "      <td>0.600</td>\n",
       "      <td>2018-10-01</td>\n",
       "      <td>The Last One</td>\n",
       "      <td>0.0</td>\n",
       "      <td>1</td>\n",
       "      <td>10</td>\n",
       "    </tr>\n",
       "    <tr>\n",
       "      <th>trailer made2018</th>\n",
       "      <td>0.600</td>\n",
       "      <td>2018-06-22</td>\n",
       "      <td>Trailer Made</td>\n",
       "      <td>0.0</td>\n",
       "      <td>1</td>\n",
       "      <td>6</td>\n",
       "    </tr>\n",
       "    <tr>\n",
       "      <th>the church2018</th>\n",
       "      <td>0.600</td>\n",
       "      <td>2018-10-05</td>\n",
       "      <td>The Church</td>\n",
       "      <td>0.0</td>\n",
       "      <td>1</td>\n",
       "      <td>10</td>\n",
       "    </tr>\n",
       "  </tbody>\n",
       "</table>\n",
       "<p>26517 rows × 6 columns</p>\n",
       "</div>"
      ],
      "text/plain": [
       "                                                  popularity release_date  \\\n",
       "movie_id                                                                    \n",
       "harry potter and the deathly hallows: part 12010      33.533   2010-11-19   \n",
       "how to train your dragon2010                          28.734   2010-03-26   \n",
       "iron man 22010                                        28.515   2010-05-07   \n",
       "toy story1995                                         28.005   1995-11-22   \n",
       "inception2010                                         27.920   2010-07-16   \n",
       "...                                                      ...          ...   \n",
       "laboratory conditions2018                              0.600   2018-10-13   \n",
       "_exhibit_84xxx_2018                                    0.600   2018-05-01   \n",
       "the last one2018                                       0.600   2018-10-01   \n",
       "trailer made2018                                       0.600   2018-06-22   \n",
       "the church2018                                         0.600   2018-10-05   \n",
       "\n",
       "                                                                                         title  \\\n",
       "movie_id                                                                                         \n",
       "harry potter and the deathly hallows: part 12010  Harry Potter and the Deathly Hallows: Part 1   \n",
       "how to train your dragon2010                                          How to Train Your Dragon   \n",
       "iron man 22010                                                                      Iron Man 2   \n",
       "toy story1995                                                                        Toy Story   \n",
       "inception2010                                                                        Inception   \n",
       "...                                                                                        ...   \n",
       "laboratory conditions2018                                                Laboratory Conditions   \n",
       "_exhibit_84xxx_2018                                                            _EXHIBIT_84xxx_   \n",
       "the last one2018                                                                  The Last One   \n",
       "trailer made2018                                                                  Trailer Made   \n",
       "the church2018                                                                      The Church   \n",
       "\n",
       "                                                  vote_average  vote_count  \\\n",
       "movie_id                                                                     \n",
       "harry potter and the deathly hallows: part 12010           7.7       10788   \n",
       "how to train your dragon2010                               7.7        7610   \n",
       "iron man 22010                                             6.8       12368   \n",
       "toy story1995                                              7.9       10174   \n",
       "inception2010                                              8.3       22186   \n",
       "...                                                        ...         ...   \n",
       "laboratory conditions2018                                  0.0           1   \n",
       "_exhibit_84xxx_2018                                        0.0           1   \n",
       "the last one2018                                           0.0           1   \n",
       "trailer made2018                                           0.0           1   \n",
       "the church2018                                             0.0           1   \n",
       "\n",
       "                                                  release_month  \n",
       "movie_id                                                         \n",
       "harry potter and the deathly hallows: part 12010             11  \n",
       "how to train your dragon2010                                  3  \n",
       "iron man 22010                                                5  \n",
       "toy story1995                                                11  \n",
       "inception2010                                                 7  \n",
       "...                                                         ...  \n",
       "laboratory conditions2018                                    10  \n",
       "_exhibit_84xxx_2018                                           5  \n",
       "the last one2018                                             10  \n",
       "trailer made2018                                              6  \n",
       "the church2018                                               10  \n",
       "\n",
       "[26517 rows x 6 columns]"
      ]
     },
     "execution_count": 178,
     "metadata": {},
     "output_type": "execute_result"
    }
   ],
   "source": [
    "# Set index as movie_id for master table.\n",
    "tmdb.set_index('movie_id')"
   ]
  },
  {
   "cell_type": "code",
   "execution_count": 179,
   "metadata": {},
   "outputs": [],
   "source": [
    "# Finally save the file as a CSV for easier sharing\n",
    "tmdb.to_csv('tmdb_data')"
   ]
  },
  {
   "cell_type": "code",
   "execution_count": null,
   "metadata": {},
   "outputs": [],
   "source": []
  }
 ],
 "metadata": {
  "kernelspec": {
   "display_name": "Python (learn-env)",
   "language": "python",
   "name": "learn-env"
  },
  "language_info": {
   "codemirror_mode": {
    "name": "ipython",
    "version": 3
   },
   "file_extension": ".py",
   "mimetype": "text/x-python",
   "name": "python",
   "nbconvert_exporter": "python",
   "pygments_lexer": "ipython3",
   "version": "3.8.5"
  }
 },
 "nbformat": 4,
 "nbformat_minor": 4
}
